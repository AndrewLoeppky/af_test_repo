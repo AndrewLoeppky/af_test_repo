{
 "cells": [
  {
   "cell_type": "markdown",
   "metadata": {},
   "source": [
    "# Andrew's Trivial Lab \n",
    "### A program for testing git and github"
   ]
  },
  {
   "cell_type": "markdown",
   "metadata": {},
   "source": [
    "This is some trivial content using markdown, LaTeX, and Python code to solve a simple problem using Python code. Here's an equation. $y$ is a *linear function* of $x$:\n",
    "\n",
    "\n",
    "$$\n",
    "    y = mx + b\\tag{equation of a line}\n",
    "$$\n",
    "\n",
    "\n",
    "Edit the cell below by entering your values for $m$, $x$ and $b$. The output of the cell will be the value of $y$ corresponding to the values you enter.\n",
    "\n",
    "### Problem 1:"
   ]
  },
  {
   "cell_type": "code",
   "execution_count": 1,
   "metadata": {},
   "outputs": [
    {
     "name": "stdout",
     "output_type": "stream",
     "text": [
      "2*3 + 4 = 10\n"
     ]
    }
   ],
   "source": [
    "# Choose values for m, x, and b\n",
    "m = 2\n",
    "x = 3\n",
    "b = 4\n",
    "\n",
    "y = m * x + b\n",
    "print(f'{m}*{x} + {b} = {y}')"
   ]
  },
  {
   "cell_type": "markdown",
   "metadata": {},
   "source": [
    "### Problem 2:\n",
    "Write a cell which solves a *quadratic equation*. \n",
    "\n",
    "*HINT: A quadratic equation is of the form $y = ax^2 + bx + c$. $x^2$ is written in Python as \"x**2\"*"
   ]
  },
  {
   "cell_type": "code",
   "execution_count": 14,
   "metadata": {},
   "outputs": [
    {
     "name": "stdout",
     "output_type": "stream",
     "text": [
      "Two sol'ns are: (-3+0j), (-2+0j)\n"
     ]
    }
   ],
   "source": [
    "# My code\n",
    "# import complex math module (not sure this is necessary)\n",
    "import cmath\n",
    "\n",
    "a = 1\n",
    "b = 5\n",
    "c = 6\n",
    "\n",
    "# discriminant\n",
    "d = (b**2) - (4*a*c)\n",
    "\n",
    "# two solutions\n",
    "sol1 = (-b-cmath.sqrt(d))/(2*a)\n",
    "sol2 = (-b+cmath.sqrt(d))/(2*a)\n",
    "\n",
    "print('Two sol\\'ns are: {0}, {1}'.format(sol1,sol2))"
   ]
  },
  {
   "cell_type": "markdown",
   "metadata": {},
   "source": [
    "### Conclusion\n",
    "We can use Jupyter notebooks to solve math problems. "
   ]
  }
 ],
 "metadata": {
  "kernelspec": {
   "display_name": "Python 3",
   "language": "python",
   "name": "python3"
  },
  "language_info": {
   "codemirror_mode": {
    "name": "ipython",
    "version": 3
   },
   "file_extension": ".py",
   "mimetype": "text/x-python",
   "name": "python",
   "nbconvert_exporter": "python",
   "pygments_lexer": "ipython3",
   "version": "3.7.6"
  }
 },
 "nbformat": 4,
 "nbformat_minor": 4
}
